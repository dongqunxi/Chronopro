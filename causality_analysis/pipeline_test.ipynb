{
 "metadata": {
  "name": "test.ipynb"
 },
 "nbformat": 3,
 "nbformat_minor": 0,
 "worksheets": [
  {
   "cells": [
    {
     "cell_type": "code",
     "collapsed": false,
     "input": [
      "# Load representative STC of each label\n",
      "X = np.load('/home/qdong/data/Chrono/18subjects/stcs/LLst_labels_ts.npy')\n",
      "X.shape# shape's like (labels, timepoints, trials)"
     ],
     "language": "python",
     "metadata": {},
     "outputs": [
      {
       "metadata": {},
       "output_type": "pyout",
       "prompt_number": 1,
       "text": [
        "(14, 475, 48)"
       ]
      }
     ],
     "prompt_number": 1
    },
    {
     "cell_type": "code",
     "collapsed": false,
     "input": [
      "# Normalize X using detrend method referring MVGC toolbox, and using the following equation\n",
      "#ts_norm = (ts - mean(ts)) / std(ts) to normalize X\n",
      "# Here we load nomalized X directly\n",
      "X = np.load('/home/qdong/data/Chrono/18subjects/stcs/LLst_labels_ts,1-norm.npy')"
     ],
     "language": "python",
     "metadata": {},
     "outputs": [],
     "prompt_number": 2
    },
    {
     "cell_type": "code",
     "collapsed": false,
     "input": [
      "morder = 21 # estimated from BIC, referring "
     ],
     "language": "python",
     "metadata": {},
     "outputs": [],
     "prompt_number": 3
    },
    {
     "cell_type": "code",
     "collapsed": false,
     "input": [
      "import scot\n",
      "mvar = scot.var.VAR(morder)# the detail of var function can be found: https://github.com/dongqunxi/SCoT/blob/master/scot/var.py\n",
      "method = 'GPDC'\n",
      "from scot.connectivity import connectivity\n",
      "import scot.connectivity_statistics as scs\n",
      "# make surrogates\n",
      "c_surrogates = scs.surrogate_connectivity(method, X, mvar,repeats=1000)\n",
      "# fit the original ST\n",
      "mvar.fit(X)\n",
      "con = connectivity(method, mvar.coef, mvar.rescov)"
     ],
     "language": "python",
     "metadata": {},
     "outputs": [],
     "prompt_number": "*"
    },
    {
     "cell_type": "code",
     "collapsed": false,
     "input": [
      "con.shape"
     ],
     "language": "python",
     "metadata": {},
     "outputs": [
      {
       "metadata": {},
       "output_type": "pyout",
       "prompt_number": 5,
       "text": [
        "(14, 14, 512)"
       ]
      }
     ],
     "prompt_number": 5
    },
    {
     "cell_type": "code",
     "collapsed": false,
     "input": [
      "surr_data.shape"
     ],
     "language": "python",
     "metadata": {},
     "outputs": [
      {
       "metadata": {},
       "output_type": "pyout",
       "prompt_number": 7,
       "text": [
        "(1000, 14, 14, 512)"
       ]
      }
     ],
     "prompt_number": 7
    },
    {
     "cell_type": "code",
     "collapsed": false,
     "input": [
      "# The detail of method of GPDC from https://github.com/dongqunxi/SCoT/blob/master/scot/connectivity.py\n",
      "def GPDC(self):\n",
      "        \"\"\" Generalized partial directed coherence\n",
      "        .. math:: \\mathrm{GPDC}_{ij}(f) = \\\\frac{|A_{ij}(f)|}\n",
      "            {\\sigma_i \\sqrt{A_{:j}'(f) \\mathrm{diag}(\\mathbf{C})^{-1} A_{:j}(f)}}\n",
      "            \n",
      "        References\n",
      "        ----------\n",
      "        L. Faes, S. Erla, G. Nollo. Measuring Connectivity in Linear Multivariate Processes:\n",
      "        Definitions, Interpretation, and Practical Analysis. Comput. Math. Meth. Med. 2012:140513, 2012.\n",
      "        \"\"\"\n",
      "        A = self.A()\n",
      "        return np.abs(A / np.sqrt(np.einsum('aj..., a..., aj..., ii... ->ij...', A.conj(), 1/np.diag(self.c), A, self.c)))"
     ],
     "language": "python",
     "metadata": {},
     "outputs": [],
     "prompt_number": 11
    }
   ],
   "metadata": {}
  }
 ]
}